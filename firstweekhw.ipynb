{
  "nbformat": 4,
  "nbformat_minor": 0,
  "metadata": {
    "colab": {
      "provenance": [],
      "authorship_tag": "ABX9TyNUk3XyEfHezRZaseWic2Bv",
      "include_colab_link": true
    },
    "kernelspec": {
      "name": "python3",
      "display_name": "Python 3"
    },
    "language_info": {
      "name": "python"
    }
  },
  "cells": [
    {
      "cell_type": "markdown",
      "metadata": {
        "id": "view-in-github",
        "colab_type": "text"
      },
      "source": [
        "<a href=\"https://colab.research.google.com/github/EunsangLim/datascience/blob/main/firstweekhw.ipynb\" target=\"_parent\"><img src=\"https://colab.research.google.com/assets/colab-badge.svg\" alt=\"Open In Colab\"/></a>"
      ]
    },
    {
      "cell_type": "code",
      "execution_count": 7,
      "metadata": {
        "id": "HARh4QjgbtCA"
      },
      "outputs": [],
      "source": [
        "# 추가과제!\n",
        "# 1. 전체 프로그램이 무한 반복되도록 코드 수정\n",
        "# 2. 메뉴 추가 - 로또 번호 생성 후 출력\n",
        "#              - 프로그램 종료하기\n",
        "# 3. 기능 추가 - 총 몇게임 생성해서 출력할 것인지 입력받기\n",
        "# 4. + 기능 추가\n",
        "#              - 랜덤하게 숫자를 뽑을 때 내가 원하는 숫자 꼭 포함하기\n",
        "#              - 내가 원하는 숫자 여러개 포함하기\n",
        "#              - 숫자 여러개를 입력 받아서, 게임당 숫자 하나씩 넣어주기 -> \n",
        "# 1,7,6입력\n",
        "#1,x,x,x,x,x\n",
        "#7,x,x,x,x,x\n",
        "#6,x,x,x,x,x\n",
        "#x,x,x,x,x,x\n",
        "#x,x,x,x,x,x\n",
        "import random as rnd\n",
        "\n"
      ]
    },
    {
      "cell_type": "code",
      "source": [
        "while True:\n",
        "  print(\"\"\"  1. 로또 번호 생성\n",
        "  2. 프로그램 종료\"\"\")\n",
        "  menu = input(\"번호를 입력하세요.\")\n",
        "\n",
        "  if int(menu) == 1:\n",
        "    while True:\n",
        "      print(\"\"\"       1.자동 생성\n",
        "      2. 원하는 숫자 한개 포함하기\n",
        "      3. 원하는 숫자 여러개 포함하기\n",
        "      4. 게임당 입력한 숫자 하나씩 넣기\n",
        "      5. 상위 메뉴로\"\"\")\n",
        "      menu2 = input(\"번호를 입력하세요.\")\n",
        "      \n",
        "      if int(menu2) == 1:\n",
        "        lotto_numbers1=[]\n",
        "\n",
        "        while True:\n",
        "          number = rnd.randint(1,45)\n",
        "          if number not in lotto_numbers1:\n",
        "            lotto_numbers1.append(number)\n",
        "\n",
        "          if len(lotto_numbers1) == 6:\n",
        "            break;\n",
        "\n",
        "        lotto_numbers1.sort()\n",
        "        print(lotto_numbers1)\n",
        "      \n",
        "      elif int(menu2) == 2:\n",
        "        lotto_numbers2=[]\n",
        "        input_number = int(input(\"1~45까지 원하는 숫자를 입력하시오.\"))\n",
        "        if input_number >0 and input_number <=45:\n",
        "          lotto_numbers2.append(input_number)\n",
        "\n",
        "          while True: \n",
        "            number = rnd.randint(1,45)\n",
        "            if number not in lotto_numbers2:\n",
        "              lotto_numbers2.append(number)\n",
        "\n",
        "            if len(lotto_numbers2) == 6:\n",
        "              break;     \n",
        "\n",
        "          lotto_numbers2.sort()\n",
        "          print(lotto_numbers2)\n",
        "\n",
        "        else:\n",
        "          print(\"잘못 입력하였습니다.\")\n",
        "  \n",
        "      elif int(menu2) == 3:\n",
        "        lotto_numbers3=[]\n",
        "\n",
        "        while True: \n",
        "          input_number = int(input(\"1~45까지 원하는 숫자를 입력하시오. 입력을 종료하려면 0을 입력하시오.\"))\n",
        "          if input_number >0 and input_number <=45:\n",
        "            if input_number not in lotto_numbers3:\n",
        "              lotto_numbers3.append(input_number)\n",
        "          elif input_number==0:\n",
        "            while True: \n",
        "              number = rnd.randint(1,45)\n",
        "              if number not in lotto_numbers3:\n",
        "                lotto_numbers3.append(number)\n",
        "              if len(lotto_numbers3) == 6:\n",
        "                break\n",
        "            if len(lotto_numbers3) == 6:     \n",
        "              break\n",
        "          if len(lotto_numbers3)==6:\n",
        "            break\n",
        "        lotto_numbers3.sort()\n",
        "        print(lotto_numbers3)\n",
        "\n",
        "      \n",
        "      elif int(menu2) == 4:\n",
        "        \n",
        "        while True:\n",
        "          lotto_numbers4=[]\n",
        "          input_number1 = int(input(\"몇 게임 하시겠습니까?0을 누르면 상위메뉴로\"))\n",
        "          if input_number1 == 0:\n",
        "            break\n",
        "          for x in range(0,input_number1):\n",
        "            input_number2 = int(input(\"1~45까지 원하는 숫자를 입력하시오. 입력을 종료하려면 0을 입력하시오.\"))\n",
        "            numbers = []\n",
        "            if input_number2 >0 and input_number2 <=45:\n",
        "              \n",
        "              if input_number2 not in numbers:\n",
        "                numbers.append(input_number2)\n",
        "              while True: \n",
        "                number = rnd.randint(1,45)\n",
        "              \n",
        "                if number not in numbers:\n",
        "                  numbers.append(number)\n",
        "                elif len(numbers)==6:\n",
        "                  break\n",
        "                \n",
        "            elif input_number2 == 0:\n",
        "              break\n",
        "            else:\n",
        "              while True:\n",
        "                number = rnd.randint(1,45)\n",
        "                if number not in numbers:\n",
        "                  numbers.append(number)\n",
        "                elif len(numbers)==6:\n",
        "                  break\n",
        "            numbers.sort()\n",
        "            lotto_numbers4.append(numbers)         \n",
        "            print(lotto_numbers4)\n",
        " \n",
        "        lotto_numbers4.sort()\n",
        "        print(lotto_numbers4)\n",
        "     \n",
        "\n",
        "\n",
        "      elif int(menu2) == 5:\n",
        "        break;\n",
        "\n",
        "\n",
        "  elif int(menu) == 2:\n",
        "    break;\n",
        "  else:\n",
        "    print(\"번호를 제대로 입력하세요.\")\n",
        "    \n"
      ],
      "metadata": {
        "colab": {
          "base_uri": "https://localhost:8080/",
          "height": 450
        },
        "id": "DcejnFsGfB2n",
        "outputId": "05291598-77dd-4405-c080-2b9ef7588446"
      },
      "execution_count": 21,
      "outputs": [
        {
          "name": "stdout",
          "output_type": "stream",
          "text": [
            "  1. 로또 번호 생성\n",
            "  2. 프로그램 종료\n",
            "번호를 입력하세요.1\n",
            "       1.자동 생성\n",
            "      2. 원하는 숫자 한개 포함하기\n",
            "      3. 원하는 숫자 여러개 포함하기\n",
            "      4. 게임당 입력한 숫자 하나씩 넣기\n",
            "      5. 상위 메뉴로\n",
            "번호를 입력하세요.4\n",
            "몇 게임 하시겠습니까?0을 누르면 상위메뉴로5\n",
            "1~45까지 원하는 숫자를 입력하시오. 입력을 종료하려면 0을 입력하시오.15\n"
          ]
        },
        {
          "output_type": "error",
          "ename": "KeyboardInterrupt",
          "evalue": "ignored",
          "traceback": [
            "\u001b[0;31m---------------------------------------------------------------------------\u001b[0m",
            "\u001b[0;31mKeyboardInterrupt\u001b[0m                         Traceback (most recent call last)",
            "\u001b[0;32m<ipython-input-21-24f232f9db2f>\u001b[0m in \u001b[0;36m<module>\u001b[0;34m\u001b[0m\n\u001b[1;32m     85\u001b[0m                 \u001b[0mnumbers\u001b[0m\u001b[0;34m.\u001b[0m\u001b[0mappend\u001b[0m\u001b[0;34m(\u001b[0m\u001b[0minput_number2\u001b[0m\u001b[0;34m)\u001b[0m\u001b[0;34m\u001b[0m\u001b[0;34m\u001b[0m\u001b[0m\n\u001b[1;32m     86\u001b[0m               \u001b[0;32mwhile\u001b[0m \u001b[0;32mTrue\u001b[0m\u001b[0;34m:\u001b[0m\u001b[0;34m\u001b[0m\u001b[0;34m\u001b[0m\u001b[0m\n\u001b[0;32m---> 87\u001b[0;31m                 \u001b[0mnumber\u001b[0m \u001b[0;34m=\u001b[0m \u001b[0mrnd\u001b[0m\u001b[0;34m.\u001b[0m\u001b[0mrandint\u001b[0m\u001b[0;34m(\u001b[0m\u001b[0;36m1\u001b[0m\u001b[0;34m,\u001b[0m\u001b[0;36m45\u001b[0m\u001b[0;34m)\u001b[0m\u001b[0;34m\u001b[0m\u001b[0;34m\u001b[0m\u001b[0m\n\u001b[0m\u001b[1;32m     88\u001b[0m \u001b[0;34m\u001b[0m\u001b[0m\n\u001b[1;32m     89\u001b[0m                 \u001b[0;32mif\u001b[0m \u001b[0mnumber\u001b[0m \u001b[0;32mnot\u001b[0m \u001b[0;32min\u001b[0m \u001b[0mnumbers\u001b[0m\u001b[0;34m:\u001b[0m\u001b[0;34m\u001b[0m\u001b[0;34m\u001b[0m\u001b[0m\n",
            "\u001b[0;31mKeyboardInterrupt\u001b[0m: "
          ]
        }
      ]
    },
    {
      "cell_type": "code",
      "source": [],
      "metadata": {
        "id": "cVUuEJS3f5Ei"
      },
      "execution_count": null,
      "outputs": []
    }
  ]
}