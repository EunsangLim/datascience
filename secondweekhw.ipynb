{
  "nbformat": 4,
  "nbformat_minor": 0,
  "metadata": {
    "colab": {
      "provenance": [],
      "authorship_tag": "ABX9TyPteY9aat9FnaMveHBSzJ5f",
      "include_colab_link": true
    },
    "kernelspec": {
      "name": "python3",
      "display_name": "Python 3"
    },
    "language_info": {
      "name": "python"
    }
  },
  "cells": [
    {
      "cell_type": "markdown",
      "metadata": {
        "id": "view-in-github",
        "colab_type": "text"
      },
      "source": [
        "<a href=\"https://colab.research.google.com/github/EunsangLim/datascience/blob/main/secondweekhw.ipynb\" target=\"_parent\"><img src=\"https://colab.research.google.com/assets/colab-badge.svg\" alt=\"Open In Colab\"/></a>"
      ]
    },
    {
      "cell_type": "code",
      "execution_count": 4,
      "metadata": {
        "colab": {
          "base_uri": "https://localhost:8080/"
        },
        "id": "3gB8PfloRnn-",
        "outputId": "fa4f274d-32ff-452e-e0cb-838a8cc0cb20"
      },
      "outputs": [
        {
          "name": "stdout",
          "output_type": "stream",
          "text": [
            "이름:jake\n",
            "키:183\n",
            "몸무게:85\n",
            "이름:mary\n",
            "키:155\n",
            "몸무게:53\n",
            "이름:suji\n",
            "키:173\n",
            "몸무게:58\n",
            "이름:\n"
          ]
        }
      ],
      "source": [
        "#파일 입력\n",
        "f = open('bmi.txt','w',encoding=\"utf-8\")\n",
        "while True:\n",
        "  name = input(\"이름:\")\n",
        "  if not name:\n",
        "    break\n",
        "  height = input(\"키:\")\n",
        "  height = float(height)\n",
        "  weight = input(\"몸무게:\")\n",
        "  weight = float(weight)\n",
        "\n",
        "  bmi = weight/(height/100)**2\n",
        "  if bmi < 18:\n",
        "    level = \"저체중\"\n",
        "  elif bmi <=23:\n",
        "    level = \"적정체중\"\n",
        "  else:\n",
        "    level = \"과체중\"\n",
        "  print(name, height, weight, bmi, level,file=f)\n",
        "f.close()"
      ]
    },
    {
      "cell_type": "code",
      "source": [
        "#파일 출력\n",
        "f = open('bmi.txt','r',encoding='utf-8')\n",
        "while True:\n",
        "  human = f.readline()\n",
        "  if not human:\n",
        "    break\n",
        "  print(human,end=\"\")\n",
        "f.close()"
      ],
      "metadata": {
        "colab": {
          "base_uri": "https://localhost:8080/"
        },
        "id": "cgFaIAP6TlLF",
        "outputId": "da54c633-4211-4923-990b-f934e2177b97"
      },
      "execution_count": 5,
      "outputs": [
        {
          "output_type": "stream",
          "name": "stdout",
          "text": [
            "jake 183.0 85.0 25.381468541909282 과체중\n",
            "mary 155.0 53.0 22.060353798126947 적정체중\n",
            "suji 173.0 58.0 19.37919743392696 적정체중\n"
          ]
        }
      ]
    },
    {
      "cell_type": "code",
      "source": [
        "#입출력 프로그램\n",
        "while True:\n",
        "  f = open('bmi.txt','r',encoding='utf-8')\n",
        "  subjects = ['height','weight','bmi','level']\n",
        "  name = input(\"name:\")\n",
        "  if not name:\n",
        "    print(\"please insert name\")\n",
        "    break\n",
        "  subject = input(\"subject\")\n",
        "  if not subject:\n",
        "    print(\"please insert subject\")\n",
        "    break\n",
        "  elif subject not in subjects:\n",
        "    print(\"there is no subject\")\n",
        "    break\n",
        "  while True:\n",
        "    human = f.readline()\n",
        "    if not human:\n",
        "      print(\"검색한 학생이 없습니다.\")\n",
        "      break\n",
        "    human_info = human.split()\n",
        "    if human_info[0] == name:\n",
        "      index = subjects.index(subject)+1\n",
        "      print(human_info[index])\n",
        "      break\n",
        "  f.close()"
      ],
      "metadata": {
        "colab": {
          "base_uri": "https://localhost:8080/"
        },
        "id": "6H5z01VoUZcU",
        "outputId": "e7f6d84a-5c8d-49e1-c221-00af849e324c"
      },
      "execution_count": 13,
      "outputs": [
        {
          "output_type": "stream",
          "name": "stdout",
          "text": [
            "name:jake\n",
            "subjectlevel\n",
            "과체중\n",
            "name:mary\n",
            "subjectlevel\n",
            "적정체중\n",
            "name:suji\n",
            "subjectbmi\n",
            "19.37919743392696\n",
            "name:\n",
            "please insert name\n"
          ]
        }
      ]
    },
    {
      "cell_type": "code",
      "source": [
        "import csv\n",
        "while True:\n",
        "  print(\"1.정보 입력\")\n",
        "  print(\"2.bmi 출력\")\n",
        "  menu = input(\"3. 종료\")\n",
        "  if menu == \"1\":\n",
        "    f = open(\"bmi.csv\",'a',encoding='utf-8',newline=\"\")\n",
        "    name = input(\"이름\")\n",
        "    height = input(\"키\")\n",
        "    height = float(height)\n",
        "    weight = input(\"몸무게\")\n",
        "    weight = float(weight)\n",
        "    bmi = weight / (height/100)**2\n",
        "    if bmi < 18:\n",
        "      level = '저체중'\n",
        "    elif bmi <=23:\n",
        "      level = \"정상체중\"\n",
        "    else:\n",
        "      level = '과체중'\n",
        "    human = [name,height,weight,bmi,level]\n",
        "    writer = csv.writer(f)\n",
        "    writer.writerow(human)\n",
        "    f.close()\n",
        "  elif menu == \"2\":\n",
        "    f = open(\"bmi.csv\",\"r\",encoding='utf-8',newline=\"\")\n",
        "    reader = csv.reader(f)\n",
        "    for line in reader:\n",
        "      print(line)\n",
        "    f.close\n",
        "  elif menu ==\"3\":\n",
        "    break\n",
        "  else:\n",
        "    print(\"please reselect menu\")"
      ],
      "metadata": {
        "colab": {
          "base_uri": "https://localhost:8080/"
        },
        "id": "4biMZWmVWMC_",
        "outputId": "c498b7eb-bc22-424a-8be0-8b87baa17101"
      },
      "execution_count": 24,
      "outputs": [
        {
          "name": "stdout",
          "output_type": "stream",
          "text": [
            "1.정보 입력\n",
            "2.bmi 출력\n",
            "3. 종료4\n",
            "please reselect menu\n",
            "1.정보 입력\n",
            "2.bmi 출력\n",
            "3. 종료ㅁ\n",
            "please reselect menu\n",
            "1.정보 입력\n",
            "2.bmi 출력\n",
            "3. 종료2\n",
            "['jake', '185.0', '85.0', '24.835646457268076', '과체중']\n",
            "['mary', '155.0', '53.0', '22.060353798126947', '정상체중']\n",
            "['june', '175.0', '55.0', '17.959183673469386', '저체중']\n",
            "1.정보 입력\n",
            "2.bmi 출력\n",
            "3. 종료3\n"
          ]
        }
      ]
    },
    {
      "cell_type": "code",
      "source": [
        "#리스트 자리 안만들어놓고 카운팅하기\n",
        "from openpyxl import load_workbook\n",
        "wb = load_workbook(\"lottos.xlsx\")\n",
        "ws = wb.active\n",
        "number_count = []\n",
        "for row in ws.iter_rows():\n",
        "  for column in row:\n",
        "    if len(number_count)==0:\n",
        "      number_count = [0 for x in range(column.value)]\n",
        "      number_count[column.value-1]+=1\n",
        "    elif len(number_count)<= column.value :\n",
        "      for x in range(column.value-len(number_count)):\n",
        "        if len(number_count) < column.value:\n",
        "          number_count.append(0)\n",
        "          #number_count[column.value-1]+=1\n",
        "      number_count[column.value-1]+=1\n",
        "\n",
        "    elif len(number_count)<=45:\n",
        "      number_count[column.value-1]+=1\n",
        "\n",
        "    \n",
        "print(number_count)"
      ],
      "metadata": {
        "colab": {
          "base_uri": "https://localhost:8080/"
        },
        "id": "0Q4Mhsj3t0vp",
        "outputId": "fc81fbb3-7796-41a7-805a-c1ddba86a445"
      },
      "execution_count": 57,
      "outputs": [
        {
          "output_type": "stream",
          "name": "stdout",
          "text": [
            "[175, 170, 164, 170, 159, 162, 164, 156, 137, 165, 166, 176, 174, 170, 163, 164, 176, 172, 158, 171, 161, 135, 143, 166, 152, 169, 177, 147, 146, 152, 165, 148, 173, 181, 162, 162, 166, 164, 172, 165, 146, 160, 181, 161, 163]\n"
          ]
        }
      ]
    },
    {
      "cell_type": "code",
      "source": [
        "#차원 축소\n",
        "from openpyxl import Workbook\n",
        "from openpyxl import load_workbook\n",
        "wb = load_workbook(\"dog.xlsx\")\n",
        "ws = wb.active\n",
        "high_level = \"$@B%8&WM#*oahkbdpqwmZO0QLCJUYXzcvunxrjft/\\|()1{}[]?-_+~<>i!lI;:,\\\"^`'. \"\n",
        "\n",
        "result_wb = Workbook()\n",
        "result_ws = result_wb.active\n",
        "second_dimension = []\n",
        "\n",
        "for row_index, row in enumerate(ws.iter_rows()):\n",
        "  if row_index ==1:\n",
        "    continue\n",
        "  row_string=\"\"\n",
        "  for column_index, column in enumerate(row):\n",
        "    if column_index ==1:\n",
        "      continue\n",
        "    if column.value:\n",
        "      char_index = int((column.value/255)*69)\n",
        "      if char_index <=69:\n",
        "        char = high_level[char_index]\n",
        "        row_string += char\n",
        "        result_ws[column.coordinate]=char\n",
        "            \n",
        "\n",
        "result_wb.save(\"result.xlsx\")"
      ],
      "metadata": {
        "id": "qZDQudx8x2xC"
      },
      "execution_count": 61,
      "outputs": []
    },
    {
      "cell_type": "code",
      "source": [],
      "metadata": {
        "id": "vTBLfa840_Qf"
      },
      "execution_count": null,
      "outputs": []
    }
  ]
}